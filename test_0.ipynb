{
 "cells": [
  {
   "cell_type": "markdown",
   "metadata": {},
   "source": [
    "# Test of the new tomobox2. \n",
    "It includes testing of the RAM and SSD based block arrays, data processing and analysis. \n",
    "A new reconstruction module."
   ]
  },
  {
   "cell_type": "markdown",
   "metadata": {},
   "source": [
    "DATA_BLOCKS"
   ]
  },
  {
   "cell_type": "code",
   "execution_count": 1,
   "metadata": {
    "collapsed": false
   },
   "outputs": [
    {
     "name": "stdout",
     "output_type": "stream",
     "text": [
      "Hello data_blocks!\n",
      "GB 1.86264514923\n",
      "block number: 4\n",
      "slice shape [1000 1000]\n",
      "block shape [1000  125 1000]\n",
      "empty slice:  (1000, 1000)\n",
      "empty block:  (1000, 125, 1000)\n",
      "get_slice:  (1000, 1000)\n"
     ]
    }
   ],
   "source": [
    "# Test of the RAM based data_blocks\n",
    "\n",
    "import data\n",
    "import numpy\n",
    "\n",
    "db = data.data_blocks(numpy.zeros([1000,500,1000]), block_sizeGB = 0.5)\n",
    "db.dim = 0\n",
    "\n",
    "print('GB', db.sizeGB)\n",
    "print('block number:', db.block_number)\n",
    "print('slice shape', db.slice_shape)\n",
    "print('block shape', db.block_shape)\n",
    "\n",
    "print('empty slice: ', db.empty_slice(1).shape)\n",
    "print('empty block: ',db.empty_block(1).shape)\n",
    "#print('indexes: ', db.block_xyz())\n",
    "print('get_slice: ', db.get_slice(1).shape)"
   ]
  },
  {
   "cell_type": "code",
   "execution_count": 2,
   "metadata": {
    "collapsed": false
   },
   "outputs": [
    {
     "name": "stdout",
     "output_type": "stream",
     "text": [
      "<data.data_blocks object at 0x000002482F8B5080>\n",
      "<data.data_blocks object at 0x000002482F8B5080>\n",
      "<data.data_blocks object at 0x000002482F8B5080>\n",
      "<data.data_blocks object at 0x000002482F8B5080>\n",
      "block itetator:  0.0\n",
      "block itetator:  1.0\n",
      "block itetator:  2.0\n",
      "block itetator:  3.0\n"
     ]
    }
   ],
   "source": [
    "for ii, blo in enumerate(db):\n",
    "    db[ii] += numpy.log(numpy.exp(blo + ii))\n",
    "\n",
    "for blo in db:\n",
    "    print('block itetator: ', blo[1, 1, 1])\n",
    "    \n",
    "db = None    "
   ]
  },
  {
   "cell_type": "markdown",
   "metadata": {},
   "source": [
    "Test IO"
   ]
  },
  {
   "cell_type": "code",
   "execution_count": 4,
   "metadata": {
    "collapsed": false
   },
   "outputs": [
    {
     "name": "stdout",
     "output_type": "stream",
     "text": [
      "Hello data_blocks!\n"
     ]
    }
   ],
   "source": [
    "# Test IO\n",
    "import tomobox\n",
    "\n",
    "proj = tomobox.projections()\n",
    "\n",
    "#proj.io.read_flexray('/export/scratch3/kostenko/Fast_Data/rijksmuseum/tiling/al_dummy_vertical_tile_0')\n",
    "#proj.display.slice()\n",
    "#proj.display.projection()\n",
    "\n",
    "# Test process\n",
    "proj.process.flat_field()\n",
    "proj.process.log()\n",
    "proj.process.residual_rings()\n",
    "proj.process.salt_pepper()\n",
    "proj.process.add_noise(1, mode = 'normal')"
   ]
  },
  {
   "cell_type": "markdown",
   "metadata": {},
   "source": [
    "Test SSD data_blocks"
   ]
  },
  {
   "cell_type": "code",
   "execution_count": 1,
   "metadata": {
    "collapsed": false
   },
   "outputs": [
    {
     "name": "stdout",
     "output_type": "stream",
     "text": [
      "Hello data_blocks!\n",
      "Bye bye data_blocks!\n",
      "get item(old) 0 (1000, 125, 1000)\n",
      "get item(old) 1 (1000, 125, 1000)\n",
      "get item(old) 2 (1000, 125, 1000)\n",
      "get item(old) 3 (1000, 125, 1000)\n"
     ]
    }
   ],
   "source": [
    "import tomobox\n",
    "import numpy\n",
    "\n",
    "# Create data blocks and populate:\n",
    "proj = tomobox.projections()\n",
    "proj.switch_to_ssd(\"D:/Data/tmp/swap/\")\n",
    "\n",
    "proj.data.total = numpy.zeros([1000,500,1000])\n",
    "\n",
    "for ii, blk in enumerate(proj.data):\n",
    "    blk = blk + ii\n",
    "    proj.data[ii] = blk"
   ]
  },
  {
   "cell_type": "code",
   "execution_count": 7,
   "metadata": {
    "collapsed": false
   },
   "outputs": [
    {
     "name": "stdout",
     "output_type": "stream",
     "text": [
      "get item(new) 3 (1000, 125, 1000)\n"
     ]
    },
    {
     "data": {
      "text/plain": [
       "0.0"
      ]
     },
     "execution_count": 7,
     "metadata": {},
     "output_type": "execute_result"
    }
   ],
   "source": [
    "proj.data[3][1,1,1]"
   ]
  },
  {
   "cell_type": "code",
   "execution_count": 11,
   "metadata": {
    "collapsed": true
   },
   "outputs": [],
   "source": [
    "proj = None"
   ]
  },
  {
   "cell_type": "code",
   "execution_count": 5,
   "metadata": {
    "collapsed": false
   },
   "outputs": [
    {
     "name": "stdout",
     "output_type": "stream",
     "text": [
      "Bye bye data_blocks!\n"
     ]
    }
   ],
   "source": []
  },
  {
   "cell_type": "markdown",
   "metadata": {},
   "source": [
    "Test projection geometry"
   ]
  },
  {
   "cell_type": "code",
   "execution_count": null,
   "metadata": {
    "collapsed": true
   },
   "outputs": [],
   "source": [
    "vectors, proj_geom = proj.meta.get_source_vector()\n",
    "vectors, proj_geom = proj.meta.get_detector_vector()\n",
    "proj.meta.get_volume_parameters()"
   ]
  }
 ],
 "metadata": {
  "anaconda-cloud": {},
  "kernelspec": {
   "display_name": "Python [default]",
   "language": "python",
   "name": "python3"
  },
  "language_info": {
   "codemirror_mode": {
    "name": "ipython",
    "version": 3
   },
   "file_extension": ".py",
   "mimetype": "text/x-python",
   "name": "python",
   "nbconvert_exporter": "python",
   "pygments_lexer": "ipython3",
   "version": "3.5.2"
  }
 },
 "nbformat": 4,
 "nbformat_minor": 2
}
